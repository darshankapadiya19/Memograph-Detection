{
  "cells": [
    {
      "cell_type": "markdown",
      "metadata": {
        "id": "B0sgOLf0KrD_"
      },
      "source": [
        "# Memograph Detection Project\n",
        "\n",
        "## Predict whether a mammogram mass is benign or malignant\n",
        "\n",
        "We'll be using Wisconsin Breast Cancer Database.\n",
        "https://archive.ics.uci.edu/ml/datasets/Breast+Cancer+Wisconsin+(Diagnostic)\n",
        "\n",
        "This data contains 699 instances of masses detected in mammograms, and contains the following attributes:\n",
        "\n",
        "\n",
        "   Attribute Information: (class attribute has been moved to last column)\n",
        "\n",
        "   #  Attribute                     Domain\n",
        "   -- -----------------------------------------\n",
        "   1. Sample code number            id number\n",
        "   2. Clump Thickness               1 - 10\n",
        "   3. Uniformity of Cell Size       1 - 10\n",
        "   4. Uniformity of Cell Shape      1 - 10\n",
        "   5. Marginal Adhesion             1 - 10\n",
        "   6. Single Epithelial Cell Size   1 - 10\n",
        "   7. Bare Nuclei                   1 - 10\n",
        "   8. Bland Chromatin               1 - 10\n",
        "   9. Normal Nucleoli               1 - 10\n",
        "  10. Mitoses                       1 - 10\n",
        "  11. Class:                        (2 for benign, 4 for malignant)\n",
        "  \n",
        "  Class distribution:\n",
        " \n",
        "   Benign: 458 (65.5%)\n",
        "   Malignant: 241 (34.5%)\n",
        "   \n",
        "\n",
        "\n",
        "\n",
        "We are Appling several different supervised machine learning techniques to this data set, and see which one yields the highest accuracy as measured with K-Fold cross validation (K=10).\n",
        "\n",
        "* Decision tree\n",
        "* Random forest\n",
        "* KNN\n",
        "* Naive Bayes\n",
        "* SVM\n",
        "* Logistic Regression\n",
        "\n",
        "The data needs to be cleaned; many rows contain missing data(to be specific 16), and there may be erroneous data identifiable as outliers as well.\n",
        "We are using Sklearn libreary for these methods.\n",
        "\n",
        "\n"
      ]
    },
    {
      "cell_type": "markdown",
      "metadata": {
        "id": "h6rCST1pKrEI"
      },
      "source": [
        "## preparing data"
      ]
    },
    {
      "cell_type": "code",
      "execution_count": null,
      "metadata": {
        "id": "BPPXqriFKrEK",
        "outputId": "68254a1c-100a-4f87-a65f-ca759d0789cc"
      },
      "outputs": [
        {
          "data": {
            "text/html": [
              "<div>\n",
              "<style scoped>\n",
              "    .dataframe tbody tr th:only-of-type {\n",
              "        vertical-align: middle;\n",
              "    }\n",
              "\n",
              "    .dataframe tbody tr th {\n",
              "        vertical-align: top;\n",
              "    }\n",
              "\n",
              "    .dataframe thead th {\n",
              "        text-align: right;\n",
              "    }\n",
              "</style>\n",
              "<table border=\"1\" class=\"dataframe\">\n",
              "  <thead>\n",
              "    <tr style=\"text-align: right;\">\n",
              "      <th></th>\n",
              "      <th>1000025</th>\n",
              "      <th>5</th>\n",
              "      <th>1</th>\n",
              "      <th>1.1</th>\n",
              "      <th>1.2</th>\n",
              "      <th>2</th>\n",
              "      <th>1.3</th>\n",
              "      <th>3</th>\n",
              "      <th>1.4</th>\n",
              "      <th>1.5</th>\n",
              "      <th>2.1</th>\n",
              "    </tr>\n",
              "  </thead>\n",
              "  <tbody>\n",
              "    <tr>\n",
              "      <th>0</th>\n",
              "      <td>1002945</td>\n",
              "      <td>5</td>\n",
              "      <td>4</td>\n",
              "      <td>4</td>\n",
              "      <td>5</td>\n",
              "      <td>7</td>\n",
              "      <td>10</td>\n",
              "      <td>3</td>\n",
              "      <td>2</td>\n",
              "      <td>1</td>\n",
              "      <td>2</td>\n",
              "    </tr>\n",
              "    <tr>\n",
              "      <th>1</th>\n",
              "      <td>1015425</td>\n",
              "      <td>3</td>\n",
              "      <td>1</td>\n",
              "      <td>1</td>\n",
              "      <td>1</td>\n",
              "      <td>2</td>\n",
              "      <td>2</td>\n",
              "      <td>3</td>\n",
              "      <td>1</td>\n",
              "      <td>1</td>\n",
              "      <td>2</td>\n",
              "    </tr>\n",
              "    <tr>\n",
              "      <th>2</th>\n",
              "      <td>1016277</td>\n",
              "      <td>6</td>\n",
              "      <td>8</td>\n",
              "      <td>8</td>\n",
              "      <td>1</td>\n",
              "      <td>3</td>\n",
              "      <td>4</td>\n",
              "      <td>3</td>\n",
              "      <td>7</td>\n",
              "      <td>1</td>\n",
              "      <td>2</td>\n",
              "    </tr>\n",
              "    <tr>\n",
              "      <th>3</th>\n",
              "      <td>1017023</td>\n",
              "      <td>4</td>\n",
              "      <td>1</td>\n",
              "      <td>1</td>\n",
              "      <td>3</td>\n",
              "      <td>2</td>\n",
              "      <td>1</td>\n",
              "      <td>3</td>\n",
              "      <td>1</td>\n",
              "      <td>1</td>\n",
              "      <td>2</td>\n",
              "    </tr>\n",
              "    <tr>\n",
              "      <th>4</th>\n",
              "      <td>1017122</td>\n",
              "      <td>8</td>\n",
              "      <td>10</td>\n",
              "      <td>10</td>\n",
              "      <td>8</td>\n",
              "      <td>7</td>\n",
              "      <td>10</td>\n",
              "      <td>9</td>\n",
              "      <td>7</td>\n",
              "      <td>1</td>\n",
              "      <td>4</td>\n",
              "    </tr>\n",
              "  </tbody>\n",
              "</table>\n",
              "</div>"
            ],
            "text/plain": [
              "   1000025  5   1  1.1  1.2  2 1.3  3  1.4  1.5  2.1\n",
              "0  1002945  5   4    4    5  7  10  3    2    1    2\n",
              "1  1015425  3   1    1    1  2   2  3    1    1    2\n",
              "2  1016277  6   8    8    1  3   4  3    7    1    2\n",
              "3  1017023  4   1    1    3  2   1  3    1    1    2\n",
              "4  1017122  8  10   10    8  7  10  9    7    1    4"
            ]
          },
          "execution_count": 1,
          "metadata": {},
          "output_type": "execute_result"
        }
      ],
      "source": [
        "import pandas as pd\n",
        "\n",
        "masses_data = pd.read_csv('breast-cancer-wisconsin.data.txt')\n",
        "masses_data.head()"
      ]
    },
    {
      "cell_type": "code",
      "execution_count": null,
      "metadata": {
        "id": "fco1sfSWKrEN",
        "outputId": "8eeb5286-6e25-4e41-ffb7-e5960cca1677"
      },
      "outputs": [
        {
          "data": {
            "text/html": [
              "<div>\n",
              "<style scoped>\n",
              "    .dataframe tbody tr th:only-of-type {\n",
              "        vertical-align: middle;\n",
              "    }\n",
              "\n",
              "    .dataframe tbody tr th {\n",
              "        vertical-align: top;\n",
              "    }\n",
              "\n",
              "    .dataframe thead th {\n",
              "        text-align: right;\n",
              "    }\n",
              "</style>\n",
              "<table border=\"1\" class=\"dataframe\">\n",
              "  <thead>\n",
              "    <tr style=\"text-align: right;\">\n",
              "      <th></th>\n",
              "      <th>ID</th>\n",
              "      <th>Clump Thickness</th>\n",
              "      <th>Cell size uniformity</th>\n",
              "      <th>Cell shape uniformity</th>\n",
              "      <th>Marginal Adhesion</th>\n",
              "      <th>Cell size</th>\n",
              "      <th>Bare nuclei</th>\n",
              "      <th>Bland Chromatin</th>\n",
              "      <th>Normal Nucleoli</th>\n",
              "      <th>mitosis</th>\n",
              "      <th>class</th>\n",
              "    </tr>\n",
              "  </thead>\n",
              "  <tbody>\n",
              "    <tr>\n",
              "      <th>0</th>\n",
              "      <td>1000025</td>\n",
              "      <td>5</td>\n",
              "      <td>1</td>\n",
              "      <td>1</td>\n",
              "      <td>1</td>\n",
              "      <td>2</td>\n",
              "      <td>1.0</td>\n",
              "      <td>3</td>\n",
              "      <td>1</td>\n",
              "      <td>1</td>\n",
              "      <td>2</td>\n",
              "    </tr>\n",
              "    <tr>\n",
              "      <th>1</th>\n",
              "      <td>1002945</td>\n",
              "      <td>5</td>\n",
              "      <td>4</td>\n",
              "      <td>4</td>\n",
              "      <td>5</td>\n",
              "      <td>7</td>\n",
              "      <td>10.0</td>\n",
              "      <td>3</td>\n",
              "      <td>2</td>\n",
              "      <td>1</td>\n",
              "      <td>2</td>\n",
              "    </tr>\n",
              "    <tr>\n",
              "      <th>2</th>\n",
              "      <td>1015425</td>\n",
              "      <td>3</td>\n",
              "      <td>1</td>\n",
              "      <td>1</td>\n",
              "      <td>1</td>\n",
              "      <td>2</td>\n",
              "      <td>2.0</td>\n",
              "      <td>3</td>\n",
              "      <td>1</td>\n",
              "      <td>1</td>\n",
              "      <td>2</td>\n",
              "    </tr>\n",
              "    <tr>\n",
              "      <th>3</th>\n",
              "      <td>1016277</td>\n",
              "      <td>6</td>\n",
              "      <td>8</td>\n",
              "      <td>8</td>\n",
              "      <td>1</td>\n",
              "      <td>3</td>\n",
              "      <td>4.0</td>\n",
              "      <td>3</td>\n",
              "      <td>7</td>\n",
              "      <td>1</td>\n",
              "      <td>2</td>\n",
              "    </tr>\n",
              "    <tr>\n",
              "      <th>4</th>\n",
              "      <td>1017023</td>\n",
              "      <td>4</td>\n",
              "      <td>1</td>\n",
              "      <td>1</td>\n",
              "      <td>3</td>\n",
              "      <td>2</td>\n",
              "      <td>1.0</td>\n",
              "      <td>3</td>\n",
              "      <td>1</td>\n",
              "      <td>1</td>\n",
              "      <td>2</td>\n",
              "    </tr>\n",
              "  </tbody>\n",
              "</table>\n",
              "</div>"
            ],
            "text/plain": [
              "        ID  Clump Thickness  Cell size uniformity  Cell shape uniformity  \\\n",
              "0  1000025                5                     1                      1   \n",
              "1  1002945                5                     4                      4   \n",
              "2  1015425                3                     1                      1   \n",
              "3  1016277                6                     8                      8   \n",
              "4  1017023                4                     1                      1   \n",
              "\n",
              "   Marginal Adhesion  Cell size  Bare nuclei  Bland Chromatin  \\\n",
              "0                  1          2          1.0                3   \n",
              "1                  5          7         10.0                3   \n",
              "2                  1          2          2.0                3   \n",
              "3                  1          3          4.0                3   \n",
              "4                  3          2          1.0                3   \n",
              "\n",
              "   Normal Nucleoli  mitosis  class  \n",
              "0                1        1      2  \n",
              "1                2        1      2  \n",
              "2                1        1      2  \n",
              "3                7        1      2  \n",
              "4                1        1      2  "
            ]
          },
          "execution_count": 2,
          "metadata": {},
          "output_type": "execute_result"
        }
      ],
      "source": [
        "masses_data = pd.read_csv('breast-cancer-wisconsin.data.txt', na_values=['?'], names = ['ID', 'Clump Thickness', 'Cell size uniformity', 'Cell shape uniformity', 'Marginal Adhesion', 'Cell size', 'Bare nuclei', 'Bland Chromatin', 'Normal Nucleoli', 'mitosis','class'])\n",
        "masses_data.head()"
      ]
    },
    {
      "cell_type": "markdown",
      "metadata": {
        "id": "ITZsn0ZIKrEO"
      },
      "source": [
        "Evaluating whether the data needs cleaning"
      ]
    },
    {
      "cell_type": "code",
      "execution_count": null,
      "metadata": {
        "id": "abq4TmXrKrEO",
        "outputId": "d01690a6-23c9-4789-d19d-ccd4f08b7728"
      },
      "outputs": [
        {
          "data": {
            "text/html": [
              "<div>\n",
              "<style scoped>\n",
              "    .dataframe tbody tr th:only-of-type {\n",
              "        vertical-align: middle;\n",
              "    }\n",
              "\n",
              "    .dataframe tbody tr th {\n",
              "        vertical-align: top;\n",
              "    }\n",
              "\n",
              "    .dataframe thead th {\n",
              "        text-align: right;\n",
              "    }\n",
              "</style>\n",
              "<table border=\"1\" class=\"dataframe\">\n",
              "  <thead>\n",
              "    <tr style=\"text-align: right;\">\n",
              "      <th></th>\n",
              "      <th>ID</th>\n",
              "      <th>Clump Thickness</th>\n",
              "      <th>Cell size uniformity</th>\n",
              "      <th>Cell shape uniformity</th>\n",
              "      <th>Marginal Adhesion</th>\n",
              "      <th>Cell size</th>\n",
              "      <th>Bare nuclei</th>\n",
              "      <th>Bland Chromatin</th>\n",
              "      <th>Normal Nucleoli</th>\n",
              "      <th>mitosis</th>\n",
              "      <th>class</th>\n",
              "    </tr>\n",
              "  </thead>\n",
              "  <tbody>\n",
              "    <tr>\n",
              "      <th>count</th>\n",
              "      <td>6.990000e+02</td>\n",
              "      <td>699.000000</td>\n",
              "      <td>699.000000</td>\n",
              "      <td>699.000000</td>\n",
              "      <td>699.000000</td>\n",
              "      <td>699.000000</td>\n",
              "      <td>683.000000</td>\n",
              "      <td>699.000000</td>\n",
              "      <td>699.000000</td>\n",
              "      <td>699.000000</td>\n",
              "      <td>699.000000</td>\n",
              "    </tr>\n",
              "    <tr>\n",
              "      <th>mean</th>\n",
              "      <td>1.071704e+06</td>\n",
              "      <td>4.417740</td>\n",
              "      <td>3.134478</td>\n",
              "      <td>3.207439</td>\n",
              "      <td>2.806867</td>\n",
              "      <td>3.216023</td>\n",
              "      <td>3.544656</td>\n",
              "      <td>3.437768</td>\n",
              "      <td>2.866953</td>\n",
              "      <td>1.589413</td>\n",
              "      <td>2.689557</td>\n",
              "    </tr>\n",
              "    <tr>\n",
              "      <th>std</th>\n",
              "      <td>6.170957e+05</td>\n",
              "      <td>2.815741</td>\n",
              "      <td>3.051459</td>\n",
              "      <td>2.971913</td>\n",
              "      <td>2.855379</td>\n",
              "      <td>2.214300</td>\n",
              "      <td>3.643857</td>\n",
              "      <td>2.438364</td>\n",
              "      <td>3.053634</td>\n",
              "      <td>1.715078</td>\n",
              "      <td>0.951273</td>\n",
              "    </tr>\n",
              "    <tr>\n",
              "      <th>min</th>\n",
              "      <td>6.163400e+04</td>\n",
              "      <td>1.000000</td>\n",
              "      <td>1.000000</td>\n",
              "      <td>1.000000</td>\n",
              "      <td>1.000000</td>\n",
              "      <td>1.000000</td>\n",
              "      <td>1.000000</td>\n",
              "      <td>1.000000</td>\n",
              "      <td>1.000000</td>\n",
              "      <td>1.000000</td>\n",
              "      <td>2.000000</td>\n",
              "    </tr>\n",
              "    <tr>\n",
              "      <th>25%</th>\n",
              "      <td>8.706885e+05</td>\n",
              "      <td>2.000000</td>\n",
              "      <td>1.000000</td>\n",
              "      <td>1.000000</td>\n",
              "      <td>1.000000</td>\n",
              "      <td>2.000000</td>\n",
              "      <td>1.000000</td>\n",
              "      <td>2.000000</td>\n",
              "      <td>1.000000</td>\n",
              "      <td>1.000000</td>\n",
              "      <td>2.000000</td>\n",
              "    </tr>\n",
              "    <tr>\n",
              "      <th>50%</th>\n",
              "      <td>1.171710e+06</td>\n",
              "      <td>4.000000</td>\n",
              "      <td>1.000000</td>\n",
              "      <td>1.000000</td>\n",
              "      <td>1.000000</td>\n",
              "      <td>2.000000</td>\n",
              "      <td>1.000000</td>\n",
              "      <td>3.000000</td>\n",
              "      <td>1.000000</td>\n",
              "      <td>1.000000</td>\n",
              "      <td>2.000000</td>\n",
              "    </tr>\n",
              "    <tr>\n",
              "      <th>75%</th>\n",
              "      <td>1.238298e+06</td>\n",
              "      <td>6.000000</td>\n",
              "      <td>5.000000</td>\n",
              "      <td>5.000000</td>\n",
              "      <td>4.000000</td>\n",
              "      <td>4.000000</td>\n",
              "      <td>6.000000</td>\n",
              "      <td>5.000000</td>\n",
              "      <td>4.000000</td>\n",
              "      <td>1.000000</td>\n",
              "      <td>4.000000</td>\n",
              "    </tr>\n",
              "    <tr>\n",
              "      <th>max</th>\n",
              "      <td>1.345435e+07</td>\n",
              "      <td>10.000000</td>\n",
              "      <td>10.000000</td>\n",
              "      <td>10.000000</td>\n",
              "      <td>10.000000</td>\n",
              "      <td>10.000000</td>\n",
              "      <td>10.000000</td>\n",
              "      <td>10.000000</td>\n",
              "      <td>10.000000</td>\n",
              "      <td>10.000000</td>\n",
              "      <td>4.000000</td>\n",
              "    </tr>\n",
              "  </tbody>\n",
              "</table>\n",
              "</div>"
            ],
            "text/plain": [
              "                 ID  Clump Thickness  Cell size uniformity  \\\n",
              "count  6.990000e+02       699.000000            699.000000   \n",
              "mean   1.071704e+06         4.417740              3.134478   \n",
              "std    6.170957e+05         2.815741              3.051459   \n",
              "min    6.163400e+04         1.000000              1.000000   \n",
              "25%    8.706885e+05         2.000000              1.000000   \n",
              "50%    1.171710e+06         4.000000              1.000000   \n",
              "75%    1.238298e+06         6.000000              5.000000   \n",
              "max    1.345435e+07        10.000000             10.000000   \n",
              "\n",
              "       Cell shape uniformity  Marginal Adhesion   Cell size  Bare nuclei  \\\n",
              "count             699.000000         699.000000  699.000000   683.000000   \n",
              "mean                3.207439           2.806867    3.216023     3.544656   \n",
              "std                 2.971913           2.855379    2.214300     3.643857   \n",
              "min                 1.000000           1.000000    1.000000     1.000000   \n",
              "25%                 1.000000           1.000000    2.000000     1.000000   \n",
              "50%                 1.000000           1.000000    2.000000     1.000000   \n",
              "75%                 5.000000           4.000000    4.000000     6.000000   \n",
              "max                10.000000          10.000000   10.000000    10.000000   \n",
              "\n",
              "       Bland Chromatin  Normal Nucleoli     mitosis       class  \n",
              "count       699.000000       699.000000  699.000000  699.000000  \n",
              "mean          3.437768         2.866953    1.589413    2.689557  \n",
              "std           2.438364         3.053634    1.715078    0.951273  \n",
              "min           1.000000         1.000000    1.000000    2.000000  \n",
              "25%           2.000000         1.000000    1.000000    2.000000  \n",
              "50%           3.000000         1.000000    1.000000    2.000000  \n",
              "75%           5.000000         4.000000    1.000000    4.000000  \n",
              "max          10.000000        10.000000   10.000000    4.000000  "
            ]
          },
          "execution_count": 3,
          "metadata": {},
          "output_type": "execute_result"
        }
      ],
      "source": [
        "masses_data.describe()"
      ]
    },
    {
      "cell_type": "markdown",
      "metadata": {
        "id": "BrauSoAxKrEP"
      },
      "source": [
        "There is no correlation between the NULL values, so we can remove rows with Null values."
      ]
    },
    {
      "cell_type": "code",
      "execution_count": null,
      "metadata": {
        "id": "mgqMrsUCKrEQ",
        "outputId": "111de6ba-3c0c-4d6d-ed75-5d0731270d69"
      },
      "outputs": [
        {
          "data": {
            "text/html": [
              "<div>\n",
              "<style scoped>\n",
              "    .dataframe tbody tr th:only-of-type {\n",
              "        vertical-align: middle;\n",
              "    }\n",
              "\n",
              "    .dataframe tbody tr th {\n",
              "        vertical-align: top;\n",
              "    }\n",
              "\n",
              "    .dataframe thead th {\n",
              "        text-align: right;\n",
              "    }\n",
              "</style>\n",
              "<table border=\"1\" class=\"dataframe\">\n",
              "  <thead>\n",
              "    <tr style=\"text-align: right;\">\n",
              "      <th></th>\n",
              "      <th>ID</th>\n",
              "      <th>Clump Thickness</th>\n",
              "      <th>Cell size uniformity</th>\n",
              "      <th>Cell shape uniformity</th>\n",
              "      <th>Marginal Adhesion</th>\n",
              "      <th>Cell size</th>\n",
              "      <th>Bare nuclei</th>\n",
              "      <th>Bland Chromatin</th>\n",
              "      <th>Normal Nucleoli</th>\n",
              "      <th>mitosis</th>\n",
              "      <th>class</th>\n",
              "    </tr>\n",
              "  </thead>\n",
              "  <tbody>\n",
              "    <tr>\n",
              "      <th>23</th>\n",
              "      <td>1057013</td>\n",
              "      <td>8</td>\n",
              "      <td>4</td>\n",
              "      <td>5</td>\n",
              "      <td>1</td>\n",
              "      <td>2</td>\n",
              "      <td>NaN</td>\n",
              "      <td>7</td>\n",
              "      <td>3</td>\n",
              "      <td>1</td>\n",
              "      <td>4</td>\n",
              "    </tr>\n",
              "    <tr>\n",
              "      <th>40</th>\n",
              "      <td>1096800</td>\n",
              "      <td>6</td>\n",
              "      <td>6</td>\n",
              "      <td>6</td>\n",
              "      <td>9</td>\n",
              "      <td>6</td>\n",
              "      <td>NaN</td>\n",
              "      <td>7</td>\n",
              "      <td>8</td>\n",
              "      <td>1</td>\n",
              "      <td>2</td>\n",
              "    </tr>\n",
              "    <tr>\n",
              "      <th>139</th>\n",
              "      <td>1183246</td>\n",
              "      <td>1</td>\n",
              "      <td>1</td>\n",
              "      <td>1</td>\n",
              "      <td>1</td>\n",
              "      <td>1</td>\n",
              "      <td>NaN</td>\n",
              "      <td>2</td>\n",
              "      <td>1</td>\n",
              "      <td>1</td>\n",
              "      <td>2</td>\n",
              "    </tr>\n",
              "    <tr>\n",
              "      <th>145</th>\n",
              "      <td>1184840</td>\n",
              "      <td>1</td>\n",
              "      <td>1</td>\n",
              "      <td>3</td>\n",
              "      <td>1</td>\n",
              "      <td>2</td>\n",
              "      <td>NaN</td>\n",
              "      <td>2</td>\n",
              "      <td>1</td>\n",
              "      <td>1</td>\n",
              "      <td>2</td>\n",
              "    </tr>\n",
              "    <tr>\n",
              "      <th>158</th>\n",
              "      <td>1193683</td>\n",
              "      <td>1</td>\n",
              "      <td>1</td>\n",
              "      <td>2</td>\n",
              "      <td>1</td>\n",
              "      <td>3</td>\n",
              "      <td>NaN</td>\n",
              "      <td>1</td>\n",
              "      <td>1</td>\n",
              "      <td>1</td>\n",
              "      <td>2</td>\n",
              "    </tr>\n",
              "    <tr>\n",
              "      <th>164</th>\n",
              "      <td>1197510</td>\n",
              "      <td>5</td>\n",
              "      <td>1</td>\n",
              "      <td>1</td>\n",
              "      <td>1</td>\n",
              "      <td>2</td>\n",
              "      <td>NaN</td>\n",
              "      <td>3</td>\n",
              "      <td>1</td>\n",
              "      <td>1</td>\n",
              "      <td>2</td>\n",
              "    </tr>\n",
              "    <tr>\n",
              "      <th>235</th>\n",
              "      <td>1241232</td>\n",
              "      <td>3</td>\n",
              "      <td>1</td>\n",
              "      <td>4</td>\n",
              "      <td>1</td>\n",
              "      <td>2</td>\n",
              "      <td>NaN</td>\n",
              "      <td>3</td>\n",
              "      <td>1</td>\n",
              "      <td>1</td>\n",
              "      <td>2</td>\n",
              "    </tr>\n",
              "    <tr>\n",
              "      <th>249</th>\n",
              "      <td>169356</td>\n",
              "      <td>3</td>\n",
              "      <td>1</td>\n",
              "      <td>1</td>\n",
              "      <td>1</td>\n",
              "      <td>2</td>\n",
              "      <td>NaN</td>\n",
              "      <td>3</td>\n",
              "      <td>1</td>\n",
              "      <td>1</td>\n",
              "      <td>2</td>\n",
              "    </tr>\n",
              "    <tr>\n",
              "      <th>275</th>\n",
              "      <td>432809</td>\n",
              "      <td>3</td>\n",
              "      <td>1</td>\n",
              "      <td>3</td>\n",
              "      <td>1</td>\n",
              "      <td>2</td>\n",
              "      <td>NaN</td>\n",
              "      <td>2</td>\n",
              "      <td>1</td>\n",
              "      <td>1</td>\n",
              "      <td>2</td>\n",
              "    </tr>\n",
              "    <tr>\n",
              "      <th>292</th>\n",
              "      <td>563649</td>\n",
              "      <td>8</td>\n",
              "      <td>8</td>\n",
              "      <td>8</td>\n",
              "      <td>1</td>\n",
              "      <td>2</td>\n",
              "      <td>NaN</td>\n",
              "      <td>6</td>\n",
              "      <td>10</td>\n",
              "      <td>1</td>\n",
              "      <td>4</td>\n",
              "    </tr>\n",
              "    <tr>\n",
              "      <th>294</th>\n",
              "      <td>606140</td>\n",
              "      <td>1</td>\n",
              "      <td>1</td>\n",
              "      <td>1</td>\n",
              "      <td>1</td>\n",
              "      <td>2</td>\n",
              "      <td>NaN</td>\n",
              "      <td>2</td>\n",
              "      <td>1</td>\n",
              "      <td>1</td>\n",
              "      <td>2</td>\n",
              "    </tr>\n",
              "    <tr>\n",
              "      <th>297</th>\n",
              "      <td>61634</td>\n",
              "      <td>5</td>\n",
              "      <td>4</td>\n",
              "      <td>3</td>\n",
              "      <td>1</td>\n",
              "      <td>2</td>\n",
              "      <td>NaN</td>\n",
              "      <td>2</td>\n",
              "      <td>3</td>\n",
              "      <td>1</td>\n",
              "      <td>2</td>\n",
              "    </tr>\n",
              "    <tr>\n",
              "      <th>315</th>\n",
              "      <td>704168</td>\n",
              "      <td>4</td>\n",
              "      <td>6</td>\n",
              "      <td>5</td>\n",
              "      <td>6</td>\n",
              "      <td>7</td>\n",
              "      <td>NaN</td>\n",
              "      <td>4</td>\n",
              "      <td>9</td>\n",
              "      <td>1</td>\n",
              "      <td>2</td>\n",
              "    </tr>\n",
              "    <tr>\n",
              "      <th>321</th>\n",
              "      <td>733639</td>\n",
              "      <td>3</td>\n",
              "      <td>1</td>\n",
              "      <td>1</td>\n",
              "      <td>1</td>\n",
              "      <td>2</td>\n",
              "      <td>NaN</td>\n",
              "      <td>3</td>\n",
              "      <td>1</td>\n",
              "      <td>1</td>\n",
              "      <td>2</td>\n",
              "    </tr>\n",
              "    <tr>\n",
              "      <th>411</th>\n",
              "      <td>1238464</td>\n",
              "      <td>1</td>\n",
              "      <td>1</td>\n",
              "      <td>1</td>\n",
              "      <td>1</td>\n",
              "      <td>1</td>\n",
              "      <td>NaN</td>\n",
              "      <td>2</td>\n",
              "      <td>1</td>\n",
              "      <td>1</td>\n",
              "      <td>2</td>\n",
              "    </tr>\n",
              "    <tr>\n",
              "      <th>617</th>\n",
              "      <td>1057067</td>\n",
              "      <td>1</td>\n",
              "      <td>1</td>\n",
              "      <td>1</td>\n",
              "      <td>1</td>\n",
              "      <td>1</td>\n",
              "      <td>NaN</td>\n",
              "      <td>1</td>\n",
              "      <td>1</td>\n",
              "      <td>1</td>\n",
              "      <td>2</td>\n",
              "    </tr>\n",
              "  </tbody>\n",
              "</table>\n",
              "</div>"
            ],
            "text/plain": [
              "          ID  Clump Thickness  Cell size uniformity  Cell shape uniformity  \\\n",
              "23   1057013                8                     4                      5   \n",
              "40   1096800                6                     6                      6   \n",
              "139  1183246                1                     1                      1   \n",
              "145  1184840                1                     1                      3   \n",
              "158  1193683                1                     1                      2   \n",
              "164  1197510                5                     1                      1   \n",
              "235  1241232                3                     1                      4   \n",
              "249   169356                3                     1                      1   \n",
              "275   432809                3                     1                      3   \n",
              "292   563649                8                     8                      8   \n",
              "294   606140                1                     1                      1   \n",
              "297    61634                5                     4                      3   \n",
              "315   704168                4                     6                      5   \n",
              "321   733639                3                     1                      1   \n",
              "411  1238464                1                     1                      1   \n",
              "617  1057067                1                     1                      1   \n",
              "\n",
              "     Marginal Adhesion  Cell size  Bare nuclei  Bland Chromatin  \\\n",
              "23                   1          2          NaN                7   \n",
              "40                   9          6          NaN                7   \n",
              "139                  1          1          NaN                2   \n",
              "145                  1          2          NaN                2   \n",
              "158                  1          3          NaN                1   \n",
              "164                  1          2          NaN                3   \n",
              "235                  1          2          NaN                3   \n",
              "249                  1          2          NaN                3   \n",
              "275                  1          2          NaN                2   \n",
              "292                  1          2          NaN                6   \n",
              "294                  1          2          NaN                2   \n",
              "297                  1          2          NaN                2   \n",
              "315                  6          7          NaN                4   \n",
              "321                  1          2          NaN                3   \n",
              "411                  1          1          NaN                2   \n",
              "617                  1          1          NaN                1   \n",
              "\n",
              "     Normal Nucleoli  mitosis  class  \n",
              "23                 3        1      4  \n",
              "40                 8        1      2  \n",
              "139                1        1      2  \n",
              "145                1        1      2  \n",
              "158                1        1      2  \n",
              "164                1        1      2  \n",
              "235                1        1      2  \n",
              "249                1        1      2  \n",
              "275                1        1      2  \n",
              "292               10        1      4  \n",
              "294                1        1      2  \n",
              "297                3        1      2  \n",
              "315                9        1      2  \n",
              "321                1        1      2  \n",
              "411                1        1      2  \n",
              "617                1        1      2  "
            ]
          },
          "execution_count": 4,
          "metadata": {},
          "output_type": "execute_result"
        }
      ],
      "source": [
        "masses_data.loc[(masses_data['Clump Thickness'].isnull()) | (masses_data['Cell size uniformity'].isnull()) |\n",
        "              (masses_data['Cell shape uniformity'].isnull()) | (masses_data['Marginal Adhesion'].isnull()) | (masses_data['Cell size'].isnull()) |\n",
        "              (masses_data['Bare nuclei'].isnull()) | (masses_data['Bland Chromatin'].isnull()) |(masses_data['Normal Nucleoli'].isnull()) |\n",
        "              (masses_data['mitosis'].isnull())]"
      ]
    },
    {
      "cell_type": "markdown",
      "metadata": {
        "id": "5XaxtpyIKrER"
      },
      "source": [
        "ID is not importent feature so we droped ID and NULL values."
      ]
    },
    {
      "cell_type": "code",
      "execution_count": null,
      "metadata": {
        "id": "WR8vXEOoKrES",
        "outputId": "3a3f7617-08a0-4613-aea8-8743a4e915bf"
      },
      "outputs": [
        {
          "data": {
            "text/html": [
              "<div>\n",
              "<style scoped>\n",
              "    .dataframe tbody tr th:only-of-type {\n",
              "        vertical-align: middle;\n",
              "    }\n",
              "\n",
              "    .dataframe tbody tr th {\n",
              "        vertical-align: top;\n",
              "    }\n",
              "\n",
              "    .dataframe thead th {\n",
              "        text-align: right;\n",
              "    }\n",
              "</style>\n",
              "<table border=\"1\" class=\"dataframe\">\n",
              "  <thead>\n",
              "    <tr style=\"text-align: right;\">\n",
              "      <th></th>\n",
              "      <th>Clump Thickness</th>\n",
              "      <th>Cell size uniformity</th>\n",
              "      <th>Cell shape uniformity</th>\n",
              "      <th>Marginal Adhesion</th>\n",
              "      <th>Cell size</th>\n",
              "      <th>Bare nuclei</th>\n",
              "      <th>Bland Chromatin</th>\n",
              "      <th>Normal Nucleoli</th>\n",
              "      <th>mitosis</th>\n",
              "      <th>class</th>\n",
              "    </tr>\n",
              "  </thead>\n",
              "  <tbody>\n",
              "    <tr>\n",
              "      <th>count</th>\n",
              "      <td>683.000000</td>\n",
              "      <td>683.000000</td>\n",
              "      <td>683.000000</td>\n",
              "      <td>683.000000</td>\n",
              "      <td>683.000000</td>\n",
              "      <td>683.000000</td>\n",
              "      <td>683.000000</td>\n",
              "      <td>683.000000</td>\n",
              "      <td>683.000000</td>\n",
              "      <td>683.000000</td>\n",
              "    </tr>\n",
              "    <tr>\n",
              "      <th>mean</th>\n",
              "      <td>4.442167</td>\n",
              "      <td>3.150805</td>\n",
              "      <td>3.215227</td>\n",
              "      <td>2.830161</td>\n",
              "      <td>3.234261</td>\n",
              "      <td>3.544656</td>\n",
              "      <td>3.445095</td>\n",
              "      <td>2.869693</td>\n",
              "      <td>1.603221</td>\n",
              "      <td>2.699854</td>\n",
              "    </tr>\n",
              "    <tr>\n",
              "      <th>std</th>\n",
              "      <td>2.820761</td>\n",
              "      <td>3.065145</td>\n",
              "      <td>2.988581</td>\n",
              "      <td>2.864562</td>\n",
              "      <td>2.223085</td>\n",
              "      <td>3.643857</td>\n",
              "      <td>2.449697</td>\n",
              "      <td>3.052666</td>\n",
              "      <td>1.732674</td>\n",
              "      <td>0.954592</td>\n",
              "    </tr>\n",
              "    <tr>\n",
              "      <th>min</th>\n",
              "      <td>1.000000</td>\n",
              "      <td>1.000000</td>\n",
              "      <td>1.000000</td>\n",
              "      <td>1.000000</td>\n",
              "      <td>1.000000</td>\n",
              "      <td>1.000000</td>\n",
              "      <td>1.000000</td>\n",
              "      <td>1.000000</td>\n",
              "      <td>1.000000</td>\n",
              "      <td>2.000000</td>\n",
              "    </tr>\n",
              "    <tr>\n",
              "      <th>25%</th>\n",
              "      <td>2.000000</td>\n",
              "      <td>1.000000</td>\n",
              "      <td>1.000000</td>\n",
              "      <td>1.000000</td>\n",
              "      <td>2.000000</td>\n",
              "      <td>1.000000</td>\n",
              "      <td>2.000000</td>\n",
              "      <td>1.000000</td>\n",
              "      <td>1.000000</td>\n",
              "      <td>2.000000</td>\n",
              "    </tr>\n",
              "    <tr>\n",
              "      <th>50%</th>\n",
              "      <td>4.000000</td>\n",
              "      <td>1.000000</td>\n",
              "      <td>1.000000</td>\n",
              "      <td>1.000000</td>\n",
              "      <td>2.000000</td>\n",
              "      <td>1.000000</td>\n",
              "      <td>3.000000</td>\n",
              "      <td>1.000000</td>\n",
              "      <td>1.000000</td>\n",
              "      <td>2.000000</td>\n",
              "    </tr>\n",
              "    <tr>\n",
              "      <th>75%</th>\n",
              "      <td>6.000000</td>\n",
              "      <td>5.000000</td>\n",
              "      <td>5.000000</td>\n",
              "      <td>4.000000</td>\n",
              "      <td>4.000000</td>\n",
              "      <td>6.000000</td>\n",
              "      <td>5.000000</td>\n",
              "      <td>4.000000</td>\n",
              "      <td>1.000000</td>\n",
              "      <td>4.000000</td>\n",
              "    </tr>\n",
              "    <tr>\n",
              "      <th>max</th>\n",
              "      <td>10.000000</td>\n",
              "      <td>10.000000</td>\n",
              "      <td>10.000000</td>\n",
              "      <td>10.000000</td>\n",
              "      <td>10.000000</td>\n",
              "      <td>10.000000</td>\n",
              "      <td>10.000000</td>\n",
              "      <td>10.000000</td>\n",
              "      <td>10.000000</td>\n",
              "      <td>4.000000</td>\n",
              "    </tr>\n",
              "  </tbody>\n",
              "</table>\n",
              "</div>"
            ],
            "text/plain": [
              "       Clump Thickness  Cell size uniformity  Cell shape uniformity  \\\n",
              "count       683.000000            683.000000             683.000000   \n",
              "mean          4.442167              3.150805               3.215227   \n",
              "std           2.820761              3.065145               2.988581   \n",
              "min           1.000000              1.000000               1.000000   \n",
              "25%           2.000000              1.000000               1.000000   \n",
              "50%           4.000000              1.000000               1.000000   \n",
              "75%           6.000000              5.000000               5.000000   \n",
              "max          10.000000             10.000000              10.000000   \n",
              "\n",
              "       Marginal Adhesion   Cell size  Bare nuclei  Bland Chromatin  \\\n",
              "count         683.000000  683.000000   683.000000       683.000000   \n",
              "mean            2.830161    3.234261     3.544656         3.445095   \n",
              "std             2.864562    2.223085     3.643857         2.449697   \n",
              "min             1.000000    1.000000     1.000000         1.000000   \n",
              "25%             1.000000    2.000000     1.000000         2.000000   \n",
              "50%             1.000000    2.000000     1.000000         3.000000   \n",
              "75%             4.000000    4.000000     6.000000         5.000000   \n",
              "max            10.000000   10.000000    10.000000        10.000000   \n",
              "\n",
              "       Normal Nucleoli     mitosis       class  \n",
              "count       683.000000  683.000000  683.000000  \n",
              "mean          2.869693    1.603221    2.699854  \n",
              "std           3.052666    1.732674    0.954592  \n",
              "min           1.000000    1.000000    2.000000  \n",
              "25%           1.000000    1.000000    2.000000  \n",
              "50%           1.000000    1.000000    2.000000  \n",
              "75%           4.000000    1.000000    4.000000  \n",
              "max          10.000000   10.000000    4.000000  "
            ]
          },
          "execution_count": 5,
          "metadata": {},
          "output_type": "execute_result"
        }
      ],
      "source": [
        "masses_data = masses_data.drop(\"ID\", axis=1)\n",
        "masses_data.dropna(inplace=True)\n",
        "masses_data.describe()"
      ]
    },
    {
      "cell_type": "markdown",
      "metadata": {
        "collapsed": true,
        "id": "oRtxR1YjKrET"
      },
      "source": [
        "Next we are converting the Pandas dataframes into numpy arrays that can be used by scikit_learn. Creating an array that extracts only the feature data we want to work with and another array that contains the classes (Output). We'll also need an array of the feature name labels."
      ]
    },
    {
      "cell_type": "code",
      "execution_count": null,
      "metadata": {
        "id": "nhwwUq9RKrET",
        "outputId": "1db9f074-2b02-4f28-d012-9b09ca188972"
      },
      "outputs": [
        {
          "data": {
            "text/plain": [
              "array([[ 5.,  1.,  1., ...,  3.,  1.,  1.],\n",
              "       [ 5.,  4.,  4., ...,  3.,  2.,  1.],\n",
              "       [ 3.,  1.,  1., ...,  3.,  1.,  1.],\n",
              "       ...,\n",
              "       [ 5., 10., 10., ...,  8., 10.,  2.],\n",
              "       [ 4.,  8.,  6., ..., 10.,  6.,  1.],\n",
              "       [ 4.,  8.,  8., ..., 10.,  4.,  1.]])"
            ]
          },
          "execution_count": 6,
          "metadata": {},
          "output_type": "execute_result"
        }
      ],
      "source": [
        "all_features = masses_data[['Clump Thickness', 'Cell size uniformity', 'Cell shape uniformity', 'Marginal Adhesion', 'Cell size', 'Bare nuclei', 'Bland Chromatin', 'Normal Nucleoli', 'mitosis']].values\n",
        "\n",
        "\n",
        "all_classes = masses_data['class'].values\n",
        "\n",
        "feature_names = ['Clump Thickness', 'Cell size uniformity', 'Cell shape uniformity', 'Marginal Adhesion', 'Cell size', 'Bare nuclei', 'Bland Chromatin', 'Normal Nucleoli', 'mitosis']\n",
        "\n",
        "all_features"
      ]
    },
    {
      "cell_type": "markdown",
      "metadata": {
        "id": "JaahVxELKrEU"
      },
      "source": [
        "Some of our models require the input data to be normalized.We are using Standardscaler to generate 0 mean 1 variance output."
      ]
    },
    {
      "cell_type": "code",
      "execution_count": null,
      "metadata": {
        "id": "x8rkvtNTKrEV",
        "outputId": "e88bf216-ecd9-4784-da93-c153fb535fcf"
      },
      "outputs": [
        {
          "data": {
            "text/plain": [
              "array([[ 0.19790469, -0.70221201, -0.74177362, ..., -0.18182716,\n",
              "        -0.61292736, -0.34839971],\n",
              "       [ 0.19790469,  0.27725185,  0.26278299, ..., -0.18182716,\n",
              "        -0.28510482, -0.34839971],\n",
              "       [-0.51164337, -0.70221201, -0.74177362, ..., -0.18182716,\n",
              "        -0.61292736, -0.34839971],\n",
              "       ...,\n",
              "       [ 0.19790469,  2.23617957,  2.2718962 , ...,  1.86073779,\n",
              "         2.33747554,  0.22916583],\n",
              "       [-0.15686934,  1.58320366,  0.93248739, ...,  2.67776377,\n",
              "         1.02618536, -0.34839971],\n",
              "       [-0.15686934,  1.58320366,  1.6021918 , ...,  2.67776377,\n",
              "         0.37054027, -0.34839971]])"
            ]
          },
          "execution_count": 7,
          "metadata": {},
          "output_type": "execute_result"
        }
      ],
      "source": [
        "from sklearn import preprocessing\n",
        "\n",
        "scaler = preprocessing.StandardScaler()\n",
        "all_features_scaled = scaler.fit_transform(all_features)\n",
        "all_features_scaled"
      ]
    },
    {
      "cell_type": "markdown",
      "metadata": {
        "id": "WZGUbhyHKrEV"
      },
      "source": [
        "## Decision Trees\n",
        "\n",
        "Before moving to K-Fold cross validation and random forests, we start by creating a single train/test split of our data. Set aside 65% for training, and 35% for testing."
      ]
    },
    {
      "cell_type": "code",
      "execution_count": null,
      "metadata": {
        "id": "b4ycYJYwKrEW"
      },
      "outputs": [],
      "source": [
        "import numpy\n",
        "from sklearn.model_selection import train_test_split\n",
        "\n",
        "numpy.random.seed(1234)\n",
        "\n",
        "(training_inputs,\n",
        " testing_inputs,\n",
        " training_classes,\n",
        " testing_classes) = train_test_split(all_features_scaled, all_classes, train_size=0.9, test_size=0.1, random_state=1)"
      ]
    },
    {
      "cell_type": "markdown",
      "metadata": {
        "id": "nzrog3uLKrEW"
      },
      "source": [
        "creating a DecisionTreeClassifier and fiting it to our training data."
      ]
    },
    {
      "cell_type": "code",
      "execution_count": null,
      "metadata": {
        "id": "pPnC5m2zKrEX",
        "outputId": "61096d12-b6ed-4278-c6b1-5021f4cf15ad"
      },
      "outputs": [
        {
          "name": "stdout",
          "output_type": "stream",
          "text": [
            "0.0009975433349609375\n"
          ]
        }
      ],
      "source": [
        "from sklearn.tree import DecisionTreeClassifier\n",
        "import time\n",
        "start = time.time()\n",
        "\n",
        "clf= DecisionTreeClassifier(random_state=1)\n",
        "\n",
        "# Train the classifier on the training set\n",
        "clf.fit(training_inputs, training_classes)\n",
        "end = time.time()\n",
        "print(end - start)"
      ]
    },
    {
      "cell_type": "markdown",
      "metadata": {
        "id": "mQpE9kAoKrEX"
      },
      "source": [
        "Display the resulting decision tree."
      ]
    },
    {
      "cell_type": "code",
      "execution_count": null,
      "metadata": {
        "id": "P_BjyEDgKrEX",
        "outputId": "5c218005-c9ab-40f5-de84-809e8aace8c3"
      },
      "outputs": [
        {
          "data": {
            "image/png": "[encoded data removed]",
            "text/plain": [
              "<IPython.core.display.Image object>"
            ]
          },
          "execution_count": 19,
          "metadata": {},
          "output_type": "execute_result"
        }
      ],
      "source": [
        "from IPython.display import Image  \n",
        "from sklearn.externals.six import StringIO  \n",
        "from sklearn import tree\n",
        "from pydotplus import graph_from_dot_data \n",
        "\n",
        "dot_data = StringIO()  \n",
        "tree.export_graphviz(clf, out_file=dot_data,  \n",
        "                         feature_names=feature_names)  \n",
        "graph = graph_from_dot_data(dot_data.getvalue())  \n",
        "Image(graph.create_png())  "
      ]
    },
    {
      "cell_type": "markdown",
      "metadata": {
        "id": "N-qwE-RmKrEY"
      },
      "source": [
        "Measure the accuracy of the resulting decision tree model using our test data."
      ]
    },
    {
      "cell_type": "code",
      "execution_count": null,
      "metadata": {
        "id": "d0VgcPH1KrEY",
        "outputId": "5a825c5e-5319-4b98-d316-1845e697da7b"
      },
      "outputs": [
        {
          "data": {
            "text/plain": [
              "0.9565217391304348"
            ]
          },
          "execution_count": 20,
          "metadata": {},
          "output_type": "execute_result"
        }
      ],
      "source": [
        "clf.score(testing_inputs, testing_classes)"
      ]
    },
    {
      "cell_type": "markdown",
      "metadata": {
        "id": "aBaeZ0_XKrEZ"
      },
      "source": [
        "Now instead of a single train/test split, using K-Fold cross validation to get a better measure of your model's accuracy (K=10)."
      ]
    },
    {
      "cell_type": "code",
      "execution_count": null,
      "metadata": {
        "id": "ctjA0AFbKrEZ"
      },
      "outputs": [],
      "source": [
        "def perf_measure(y_actual, y_hat):\n",
        "    TP = 0\n",
        "    FP = 0\n",
        "    TN = 0\n",
        "    FN = 0\n",
        "\n",
        "    for i in range(len(y_hat)): \n",
        "        if y_actual[i]==y_hat[i]==4:\n",
        "           TP += 1\n",
        "        if y_hat[i]==4 and y_actual[i]!=y_hat[i]:\n",
        "           FP += 1\n",
        "        if y_actual[i]==y_hat[i]==2:\n",
        "           TN += 1\n",
        "        if y_hat[i]==2 and y_actual[i]!=y_hat[i]:\n",
        "           FN += 1\n",
        "    \n",
        "    return(TP, FP, TN, FN)"
      ]
    },
    {
      "cell_type": "code",
      "execution_count": null,
      "metadata": {
        "id": "j-gtsowVKrEa",
        "outputId": "087aa5d5-ddbf-4757-d065-c2622f95754a"
      },
      "outputs": [
        {
          "name": "stdout",
          "output_type": "stream",
          "text": [
            "0.9473985570866892\n",
            "4\n",
            "24 1 42 2\n",
            "0.019914865493774414\n"
          ]
        }
      ],
      "source": [
        "from sklearn.model_selection import cross_val_score\n",
        "from sklearn.model_selection import cross_val_predict\n",
        "start=time.time()\n",
        "clf = DecisionTreeClassifier(random_state=1)\n",
        "\n",
        "cv_scores = cross_val_score(clf, all_features_scaled, all_classes, cv=10)\n",
        "print(cv_scores.mean())\n",
        "\n",
        "clf.fit(training_inputs,training_classes)\n",
        "y_pred=clf.predict(testing_inputs)\n",
        "print(testing_classes[3])\n",
        "y_pred=numpy.asarray(y_pred)\n",
        "testing_classes=numpy.asarray(testing_classes)\n",
        "TP,FP,TN,FN=perf_measure(testing_classes,y_pred)\n",
        "\n",
        "print(TP,FP,TN,FN)\n",
        "end = time.time()\n",
        "print(end - start)"
      ]
    },
    {
      "cell_type": "markdown",
      "metadata": {
        "id": "5QMayYHcKrEa"
      },
      "source": [
        "RandomForestClassifier :"
      ]
    },
    {
      "cell_type": "code",
      "execution_count": null,
      "metadata": {
        "id": "lEPOGYVkKrEa",
        "outputId": "410d37dd-843f-4307-abb1-d7ec65467c33"
      },
      "outputs": [
        {
          "name": "stdout",
          "output_type": "stream",
          "text": [
            "0.9664961636828645\n",
            "0.10572195053100586\n"
          ]
        }
      ],
      "source": [
        "from sklearn.ensemble import RandomForestClassifier\n",
        "start=time.time();\n",
        "clf = RandomForestClassifier(n_estimators=10, random_state=1)\n",
        "cv_scores = cross_val_score(clf, all_features_scaled, all_classes, cv=10)\n",
        "\n",
        "print(cv_scores.mean())\n",
        "end = time.time()\n",
        "print(end - start)"
      ]
    },
    {
      "cell_type": "markdown",
      "metadata": {
        "id": "IM8HUZ5UKrEb"
      },
      "source": [
        "## SVM\n",
        "using linear kernel"
      ]
    },
    {
      "cell_type": "code",
      "execution_count": null,
      "metadata": {
        "id": "cruLHCkTKrEb",
        "outputId": "e4159bae-a87d-4b99-87c2-c7853c216339"
      },
      "outputs": [
        {
          "name": "stdout",
          "output_type": "stream",
          "text": [
            "0.9664315888587751\n",
            "0.03888988494873047\n"
          ]
        }
      ],
      "source": [
        "from sklearn import svm\n",
        "start=time.time();\n",
        "C = 1.0\n",
        "svc = svm.SVC(kernel='linear', C=C)\n",
        "cv_scores = cross_val_score(svc, all_features_scaled, all_classes, cv=10)\n",
        "\n",
        "print(cv_scores.mean())\n",
        "end = time.time()\n",
        "print(end - start)"
      ]
    },
    {
      "cell_type": "markdown",
      "metadata": {
        "id": "1XbCpH1tKrEc"
      },
      "source": [
        "## KNN\n",
        "KNeighborsClassifier with a K of 10. K is an example of a hyperparameter - a parameter on the model itself which may need to be tuned for best results on your particular data set."
      ]
    },
    {
      "cell_type": "code",
      "execution_count": null,
      "metadata": {
        "id": "B_LVy7dMKrEc",
        "outputId": "baef3404-afec-453c-bf57-b8c2f97162ce"
      },
      "outputs": [
        {
          "name": "stdout",
          "output_type": "stream",
          "text": [
            "0.9650468883205455\n",
            "0.04985857009887695\n"
          ]
        }
      ],
      "source": [
        "from sklearn import neighbors\n",
        "start=time.time()\n",
        "clf = neighbors.KNeighborsClassifier(n_neighbors=10)\n",
        "cv_scores = cross_val_score(clf, all_features_scaled, all_classes, cv=10)\n",
        "\n",
        "print(cv_scores.mean())\n",
        "end = time.time()\n",
        "print(end - start)"
      ]
    },
    {
      "cell_type": "markdown",
      "metadata": {
        "id": "9rAB1bc_KrEd"
      },
      "source": [
        "Choosing K is tricky, so we can't discard KNN until we've tried different values of K. Write a for loop to run KNN with K values ranging from 1 to 50 and see if K makes a substantial difference and noting down the best accuracy."
      ]
    },
    {
      "cell_type": "code",
      "execution_count": null,
      "metadata": {
        "id": "U0fEC69yKrEd",
        "outputId": "70339855-d082-443f-b701-f4575b46a585"
      },
      "outputs": [
        {
          "name": "stdout",
          "output_type": "stream",
          "text": [
            "1 0.9489763458920232\n",
            "2 0.941644717588528\n",
            "3 0.9606338512043363\n",
            "4 0.9621263885177693\n",
            "5 0.9693940782023386\n",
            "6 0.9664742146047256\n",
            "7 0.9694373401534527\n",
            "8 0.9708866155157715\n",
            "9 0.9679454390451834\n",
            "10 0.9650468883205455\n",
            "11 0.9694373401534527\n",
            "12 0.967988064791134\n",
            "13 0.9708866155157715\n",
            "14 0.966538789428815\n",
            "15 0.9650249392424068\n",
            "16 0.965068201193521\n",
            "17 0.9679448028400198\n",
            "18 0.9635756638800881\n",
            "19 0.9664955274777011\n",
            "20 0.9665174765558397\n",
            "21 0.9679234899670446\n",
            "22 0.9679667519181585\n",
            "23 0.9679667519181585\n",
            "24 0.9665174765558397\n",
            "25 0.9665174765558397\n",
            "26 0.965068201193521\n",
            "27 0.9635756638800881\n",
            "28 0.965068201193521\n",
            "29 0.9650249392424068\n",
            "30 0.965068201193521\n",
            "31 0.9635756638800881\n",
            "32 0.9635756638800881\n",
            "33 0.9635756638800881\n",
            "34 0.9621263885177693\n",
            "35 0.9621263885177693\n",
            "36 0.9621696504688831\n",
            "37 0.9635756638800881\n",
            "38 0.9636189258312022\n",
            "39 0.9621263885177693\n",
            "40 0.9606771131554502\n",
            "41 0.9606771131554502\n",
            "42 0.9606771131554502\n",
            "43 0.9606771131554502\n",
            "44 0.9606771131554502\n",
            "45 0.9606771131554502\n",
            "46 0.9606771131554502\n",
            "47 0.9606771131554502\n",
            "48 0.9592278377931315\n",
            "49 0.9606771131554502\n"
          ]
        }
      ],
      "source": [
        "for n in range(1, 50):\n",
        "    clf = neighbors.KNeighborsClassifier(n_neighbors=n)\n",
        "    cv_scores = cross_val_score(clf, all_features_scaled, all_classes, cv=10)\n",
        "    print (n, cv_scores.mean())"
      ]
    },
    {
      "cell_type": "markdown",
      "metadata": {
        "id": "OPFnPASqKrEd"
      },
      "source": [
        "## Naive Bayes\n",
        "\n",
        "Now trying naive_bayes.MultinomialNB."
      ]
    },
    {
      "cell_type": "code",
      "execution_count": null,
      "metadata": {
        "id": "w2gt2fctKrEd",
        "outputId": "9b51cb39-d57c-48a4-99d8-251a0dd27d1a"
      },
      "outputs": [
        {
          "name": "stdout",
          "output_type": "stream",
          "text": [
            "0.9094603707803695\n",
            "0.01492762565612793\n"
          ]
        }
      ],
      "source": [
        "from sklearn.naive_bayes import MultinomialNB\n",
        "start=time.time()\n",
        "scaler = preprocessing.MinMaxScaler()\n",
        "all_features_minmax = scaler.fit_transform(all_features)\n",
        "\n",
        "clf = MultinomialNB()\n",
        "cv_scores = cross_val_score(clf, all_features_minmax, all_classes, cv=10)\n",
        "\n",
        "print(cv_scores.mean())\n",
        "end = time.time()\n",
        "print(end - start)"
      ]
    },
    {
      "cell_type": "markdown",
      "metadata": {
        "id": "kqJbkuCOKrEe"
      },
      "source": [
        "## Revisiting SVM\n",
        "\n",
        "svm.SVC may perform differently with different kernels. The choice of kernel is an example of a \"hyperparamter.\" Try the rbf, sigmoid, and poly kernels and see what the best-performing kernel is."
      ]
    },
    {
      "cell_type": "code",
      "execution_count": null,
      "metadata": {
        "id": "Uvq1lwRsKrEe",
        "outputId": "23487072-d70f-4b6f-ab32-263c5fc4c736"
      },
      "outputs": [
        {
          "name": "stdout",
          "output_type": "stream",
          "text": [
            "0.9664742146047256\n",
            "0.04188823699951172\n"
          ]
        }
      ],
      "source": [
        "C = 1.0\n",
        "start=time.time()\n",
        "svc = svm.SVC(kernel='rbf', C=C,gamma='auto')\n",
        "cv_scores = cross_val_score(svc, all_features_scaled, all_classes, cv=10)\n",
        "print(cv_scores.mean())\n",
        "end = time.time()\n",
        "print(end - start)"
      ]
    },
    {
      "cell_type": "code",
      "execution_count": null,
      "metadata": {
        "id": "dt4hqiPVKrEe",
        "outputId": "00bb2607-d5e1-45a4-9036-e5de82822942"
      },
      "outputs": [
        {
          "name": "stdout",
          "output_type": "stream",
          "text": [
            "0.9619972388695907\n",
            "0.028890132904052734\n"
          ]
        }
      ],
      "source": [
        "C = 1.0\n",
        "start=time.time()\n",
        "svc = svm.SVC(kernel='sigmoid', C=C,gamma='auto')\n",
        "cv_scores = cross_val_score(svc, all_features_scaled, all_classes, cv=10)\n",
        "print(cv_scores.mean())\n",
        "end = time.time()\n",
        "print(end - start)"
      ]
    },
    {
      "cell_type": "code",
      "execution_count": null,
      "metadata": {
        "id": "vkTKDCt-KrEf",
        "outputId": "b7032414-e7b7-4e75-c6fa-7ec74a02426d"
      },
      "outputs": [
        {
          "name": "stdout",
          "output_type": "stream",
          "text": [
            "0.9563299232736574\n",
            "0.03095078468322754\n"
          ]
        }
      ],
      "source": [
        "C = 1.0\n",
        "start=time.time()\n",
        "svc = svm.SVC(kernel='poly', C=C,gamma='auto')\n",
        "cv_scores = cross_val_score(svc, all_features_scaled, all_classes, cv=10)\n",
        "print(cv_scores.mean())\n",
        "end = time.time()\n",
        "print(end - start)"
      ]
    },
    {
      "cell_type": "markdown",
      "metadata": {
        "id": "5531sf34KrEf"
      },
      "source": [
        "## Logistic Regression\n",
        "\n",
        "Fundamentally this is just a binary classification problem. So, Logisitic Regression, which is a simple way to tackling this sort of thing."
      ]
    },
    {
      "cell_type": "code",
      "execution_count": null,
      "metadata": {
        "id": "08cPFv_EKrEf",
        "outputId": "10a1b7b4-1734-4e22-fd78-0116b05bd448"
      },
      "outputs": [
        {
          "name": "stdout",
          "output_type": "stream",
          "text": [
            "0.9694373401534527\n",
            "0.025895357131958008\n"
          ]
        }
      ],
      "source": [
        "from sklearn.linear_model import LogisticRegression\n",
        "start=time.time()\n",
        "clf = LogisticRegression(solver='liblinear')\n",
        "cv_scores = cross_val_score(clf, all_features_scaled, all_classes, cv=10)\n",
        "print(cv_scores.mean())\n",
        "end = time.time()\n",
        "print(end - start)"
      ]
    },
    {
      "cell_type": "code",
      "execution_count": null,
      "metadata": {
        "id": "fQ1vdOyyKrEf"
      },
      "outputs": [],
      "source": [
        ""
      ]
    }
  ],
  "metadata": {
    "kernelspec": {
      "display_name": "Python 3",
      "language": "python",
      "name": "python3"
    },
    "language_info": {
      "codemirror_mode": {
        "name": "ipython",
        "version": 3
      },
      "file_extension": ".py",
      "mimetype": "text/x-python",
      "name": "python",
      "nbconvert_exporter": "python",
      "pygments_lexer": "ipython3",
      "version": "3.7.3"
    },
    "colab": {
      "name": "mammo_masses_project.ipynb",
      "provenance": []
    }
  },
  "nbformat": 4,
  "nbformat_minor": 0
}